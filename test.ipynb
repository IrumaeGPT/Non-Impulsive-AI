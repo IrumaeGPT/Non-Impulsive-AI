{
 "cells": [
  {
   "cell_type": "code",
   "execution_count": 3,
   "metadata": {},
   "outputs": [],
   "source": [
    "import numpy as np\n",
    "import ast"
   ]
  },
  {
   "cell_type": "code",
   "execution_count": 12,
   "metadata": {},
   "outputs": [
    {
     "name": "stdout",
     "output_type": "stream",
     "text": [
      "평균값 (1, 2) 형태: [[ 190.25 2654.5 ]]\n",
      "배열의 전체 평균값: 2844.75\n"
     ]
    }
   ],
   "source": [
    "with open(\"used_token.txt\", \"r\") as file:\n",
    "    # 파일에 저장된 리스트 형식의 문자열을 읽고 이를 실제 리스트로 변환\n",
    "    data = ast.literal_eval(file.read())\n",
    "\n",
    "# 2. 리스트를 numpy 배열로 변환\n",
    "data_array = np.array(data)\n",
    "\n",
    "# 4. 첫 번째 축(axis=0)을 따라 평균을 구함\n",
    "mean_values = np.mean(data_array, axis=0)\n",
    "\n",
    "row_sums = np.sum(data_array, axis=1)\n",
    "overall_mean = np.mean(row_sums)\n",
    "\n",
    "# 5. (1, 2) 모양으로 변환 (필요하면 reshape 사용)\n",
    "mean_values = mean_values.reshape(1, 2)\n",
    "\n",
    "# 6. 결과 출력\n",
    "print(f\"평균값 (1, 2) 형태: {mean_values}\")\n",
    "print(f\"배열의 전체 평균값: {overall_mean}\")"
   ]
  }
 ],
 "metadata": {
  "kernelspec": {
   "display_name": "KSC2024",
   "language": "python",
   "name": "python3"
  },
  "language_info": {
   "codemirror_mode": {
    "name": "ipython",
    "version": 3
   },
   "file_extension": ".py",
   "mimetype": "text/x-python",
   "name": "python",
   "nbconvert_exporter": "python",
   "pygments_lexer": "ipython3",
   "version": "3.10.15"
  }
 },
 "nbformat": 4,
 "nbformat_minor": 2
}
